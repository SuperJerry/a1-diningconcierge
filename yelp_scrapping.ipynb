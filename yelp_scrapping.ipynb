{
 "cells": [
  {
   "cell_type": "markdown",
   "metadata": {},
   "source": [
    "### Part 1. Scrapping restaurant data from Yelp Fusion API"
   ]
  },
  {
   "cell_type": "code",
   "execution_count": 1,
   "metadata": {},
   "outputs": [],
   "source": [
    "import yelp\n",
    "import requests\n",
    "import json\n",
    "from datetime import datetime"
   ]
  },
  {
   "cell_type": "code",
   "execution_count": 4,
   "metadata": {},
   "outputs": [],
   "source": [
    "client_id='vbSXv5AR9CFLmp9Q6iDgkw'\n",
    "api_key='EeDkyCyJJpe_YfI7U9EGg2uL7QrmMjgA5fPwbDD7xecjPBEeCUlFRr_yla2j20copss7AxRh7JcYJJdPHvKK_emSHbiMh1nAOWCuIxka5vWIVRzpeqAeKfQWnAdkYXYx'\n",
    "headers = {'Authorization': 'Bearer %s' % api_key}"
   ]
  },
  {
   "cell_type": "code",
   "execution_count": 5,
   "metadata": {},
   "outputs": [],
   "source": [
    "# five location, 7 cuisine type\n",
    "rest_dict = {}\n",
    "location = ['Manhattan', 'Brooklyn', 'Queens', 'Bronx', 'Staten_Island']\n",
    "cuisine = ['Chinese', 'Japanese', 'Korean', 'Thai', 'Italian', 'Mexican', 'American']\n",
    "\n",
    "# scrap Yelp by location and cuisine type, get 50 results from each\n",
    "for l in location:\n",
    "    for c in cuisine:\n",
    "        url='https://api.yelp.com/v3/businesses/search'\n",
    "        params = {'term':c,'location':l,'limit':50}\n",
    "        req=requests.get(url, params=params, headers=headers)\n",
    "        data = json.loads(req.text)\n",
    "        if req.status_code == 200:\n",
    "            rest_dict[c+l] = data['businesses']\n",
    "        else:\n",
    "            print(c + \" \" + l)"
   ]
  },
  {
   "cell_type": "code",
   "execution_count": 9,
   "metadata": {},
   "outputs": [],
   "source": [
    "# format scrapped yelp code\n",
    "# remove potential identical query results by checking id\n",
    "\n",
    "NY_restaurant = []\n",
    "id_list = []\n",
    "for dk in rest_dict:\n",
    "    cru = \"\"\n",
    "    loc = \"\"\n",
    "    for c in cuisine:\n",
    "        if c in dk:\n",
    "            cru = c\n",
    "    for l in location:\n",
    "        if l in dk:\n",
    "            loc = l\n",
    "    for rest in rest_dict[dk]:\n",
    "        if rest['id'] in id_list: continue\n",
    "        id_list.append(rest['id'])\n",
    "        samp = {}\n",
    "        samp['id'] = rest['id']\n",
    "        samp['name'] = rest['name']\n",
    "        samp['alias'] = rest['alias']\n",
    "        samp['cuisine'] = cru\n",
    "        if rest['location']['city'] in location:\n",
    "            samp['area'] = rest['location']['city']\n",
    "        else:\n",
    "            samp['area'] = loc\n",
    "        samp['image_url'] = rest['image_url']\n",
    "        samp['is_closed'] = rest['is_closed']\n",
    "        samp['url'] = rest['url']\n",
    "        samp['review_count'] = rest['review_count']\n",
    "        samp['categories'] = rest['categories']\n",
    "        samp['rating'] = str(rest['rating'])\n",
    "        samp['latitude'] = str(rest['coordinates']['latitude'])\n",
    "        samp['longitude'] = str(rest['coordinates']['longitude'])\n",
    "        samp['transactions'] = rest['transactions']\n",
    "        samp['location'] = rest['location']\n",
    "        samp['display_address'] = ' '.join(rest['location']['display_address'])\n",
    "        samp['zipcode'] = rest['location']['zip_code']\n",
    "        samp['phone'] = rest['phone']\n",
    "        samp['display_phone'] = rest['display_phone']\n",
    "        samp['insertedAtTimestamp'] = str(datetime.now())\n",
    "        NY_restaurant.append(samp) "
   ]
  },
  {
   "cell_type": "markdown",
   "metadata": {},
   "source": [
    "yelp scrapping result analysis"
   ]
  },
  {
   "cell_type": "code",
   "execution_count": 10,
   "metadata": {},
   "outputs": [
    {
     "data": {
      "text/plain": [
       "1447"
      ]
     },
     "execution_count": 10,
     "metadata": {},
     "output_type": "execute_result"
    }
   ],
   "source": [
    "len(NY_restaurant)"
   ]
  },
  {
   "cell_type": "code",
   "execution_count": 14,
   "metadata": {},
   "outputs": [
    {
     "data": {
      "text/plain": [
       "{'Manhattan': 329,\n",
       " 'Brooklyn': 321,\n",
       " 'Queens': 276,\n",
       " 'Bronx': 268,\n",
       " 'Staten_Island': 253}"
      ]
     },
     "execution_count": 14,
     "metadata": {},
     "output_type": "execute_result"
    }
   ],
   "source": [
    "location_dict = {}\n",
    "for l in location:\n",
    "    count = 0\n",
    "    for rest in NY_restaurant:\n",
    "        if l == rest['area']:\n",
    "            count += 1\n",
    "    location_dict[l] = count\n",
    "location_dict"
   ]
  },
  {
   "cell_type": "code",
   "execution_count": 33,
   "metadata": {},
   "outputs": [
    {
     "data": {
      "text/plain": [
       "{'Chinese': 235,\n",
       " 'Japanese': 220,\n",
       " 'Korean': 148,\n",
       " 'Thai': 168,\n",
       " 'Italian': 225,\n",
       " 'Mexican': 235,\n",
       " 'American': 216}"
      ]
     },
     "execution_count": 33,
     "metadata": {},
     "output_type": "execute_result"
    }
   ],
   "source": [
    "cuisine_dict = {}\n",
    "for c in cuisine:\n",
    "    count = 0\n",
    "    for rest in NY_restaurant:\n",
    "        if c == rest['cuisine']:\n",
    "            count += 1\n",
    "    cuisine_dict[c] = count\n",
    "cuisine_dict"
   ]
  },
  {
   "cell_type": "code",
   "execution_count": 16,
   "metadata": {},
   "outputs": [],
   "source": [
    "# save yelp scrapping result as json file\n",
    "yelp = {\"yelp-restaurants\": NY_restaurant}\n",
    "with open(\"yelp.json\", \"w\") as outfile:\n",
    "    json.dump(yelp, outfile)"
   ]
  },
  {
   "cell_type": "markdown",
   "metadata": {},
   "source": [
    "### Part 2. Load Data into DynamoDB Table"
   ]
  },
  {
   "cell_type": "code",
   "execution_count": 3,
   "metadata": {},
   "outputs": [],
   "source": [
    "import boto3\n",
    "from boto3.dynamodb.conditions import Key\n",
    "import time"
   ]
  },
  {
   "cell_type": "code",
   "execution_count": 18,
   "metadata": {},
   "outputs": [
    {
     "data": {
      "text/plain": [
       "[dynamodb.Table(name='yelp-restaurants')]"
      ]
     },
     "execution_count": 18,
     "metadata": {},
     "output_type": "execute_result"
    }
   ],
   "source": [
    "# get DynamoDB resource\n",
    "# I work this code in local, so I need access key and secret key\n",
    "# sorry, I can't put this information in the submitted code\n",
    "dynamodb = boto3.resource('dynamodb', aws_access_key_id='******', \n",
    "                          aws_secret_access_key='********',\n",
    "                          region_name=\"us-west-2\")\n",
    "list(dynamodb.tables.all())"
   ]
  },
  {
   "cell_type": "code",
   "execution_count": 19,
   "metadata": {},
   "outputs": [],
   "source": [
    "# put data to restaruant table in DynamoDB\n",
    "yelp_table = dynamodb.Table('yelp-restaurants')\n",
    "for i in range(len(NY_restaurant)):\n",
    "    yelp_table.put_item(\n",
    "        Item=NY_restaurant[i]\n",
    "    )\n",
    "    if i % 50 == 0:\n",
    "        time.sleep(1)"
   ]
  },
  {
   "cell_type": "code",
   "execution_count": 163,
   "metadata": {},
   "outputs": [
    {
     "name": "stdout",
     "output_type": "stream",
     "text": [
      "{'location': {'country': 'US', 'address3': '', 'address2': '', 'city': 'West Bronx', 'address1': '2329 Arthur Ave', 'display_address': ['2329 Arthur Ave', 'West Bronx, NY 10458'], 'state': 'NY', 'zip_code': '10458'}, 'rating': '4.0', 'insertedAtTimestamp': '2021-10-11 08:52:50.010532', 'is_closed': False, 'transactions': ['pickup', 'delivery'], 'url': 'https://www.yelp.com/biz/san-gennaro-trattoria-restaurant-bar-west-bronx?adjust_creative=vbSXv5AR9CFLmp9Q6iDgkw&utm_campaign=yelp_api_v3&utm_medium=api_v3_business_search&utm_source=vbSXv5AR9CFLmp9Q6iDgkw', 'cuisine': 'Italian', 'review_count': Decimal('189'), 'name': 'San Gennaro Trattoria Restaurant Bar', 'display_phone': '(718) 562-0129', 'alias': 'san-gennaro-trattoria-restaurant-bar-west-bronx', 'zipcode': '10458', 'display_address': '2329 Arthur Ave West Bronx, NY 10458', 'area': 'Bronx', 'categories': [{'title': 'Italian', 'alias': 'italian'}, {'title': 'Mediterranean', 'alias': 'mediterranean'}], 'longitude': '-73.8889484480023', 'image_url': 'https://s3-media3.fl.yelpcdn.com/bphoto/dHo1A8LbzGS5Bd01XF4-wg/o.jpg', 'id': 'ZhjRaJkfCIVopvamUzrEsA', 'latitude': '40.8540465225016', 'phone': '+17185620129'}\n"
     ]
    }
   ],
   "source": [
    "# try a potential query code\n",
    "response = yelp_table.query(\n",
    "    KeyConditionExpression=Key('id').eq('ZhjRaJkfCIVopvamUzrEsA')\n",
    ")\n",
    "print(response['Items'][0])"
   ]
  },
  {
   "cell_type": "markdown",
   "metadata": {},
   "source": [
    "### Part 3. Format Data and Upload to OpenSearch"
   ]
  },
  {
   "cell_type": "code",
   "execution_count": 2,
   "metadata": {},
   "outputs": [],
   "source": [
    "from opensearchpy import OpenSearch, RequestsHttpConnection\n",
    "from requests.auth import HTTPBasicAuth"
   ]
  },
  {
   "cell_type": "code",
   "execution_count": 24,
   "metadata": {},
   "outputs": [],
   "source": [
    "# OpenSearch Data only need id, cuisine, and area location\n",
    "restsearch = []\n",
    "id_list = []\n",
    "for rest in NY_restaurant:\n",
    "    if rest['id'] not in id_list:\n",
    "        temp = {}\n",
    "        temp['id'] = rest['id']\n",
    "        temp['cuisine'] = rest['cuisine']\n",
    "        temp['area'] = rest['area']\n",
    "        restsearch.append(temp)\n",
    "        id_list.append(rest['id'])\n",
    "\n",
    "# create json file needed for OpenSearch data upload\n",
    "json_text = \"\"\n",
    "for i in range(len(restsearch)):\n",
    "    json_text += \"{ \\\"create\\\" : { \\\"_index\\\" : \\\"restaurants\\\", \\\"_type\\\" : \\\"_doc\\\", \\\"_id\\\" : \\\"\" + str(i+1) + \"\\\"  } }\\n\"\n",
    "    json_text += \"{ \\\"id\\\" : \\\"\" + restsearch[i]['id'] + \"\\\", \\\"cuisine\\\" : \\\"\" + restsearch[i]['cuisine'] + \"\\\", \\\"area\\\" : \\\"\" + restsearch[i]['area'] + \"\\\" }\\n\"\n",
    "\n",
    "f = open(\"search.json\", \"w\")\n",
    "f.write(json_text)\n",
    "f.close()"
   ]
  },
  {
   "cell_type": "markdown",
   "metadata": {},
   "source": [
    "run the following command in terminal to upload data to OpenSearch for indexing:"
   ]
  },
  {
   "cell_type": "markdown",
   "metadata": {},
   "source": [
    "curl -XPOST -u \"master-user:master-user-password\" \"search-restaurants-zvk7jnqfg6krgykwbjskmtveiu.us-west-2.es.amazonaws.com/_bulk\" --data-binary @search.json -H \"Content-Type: application/json\""
   ]
  },
  {
   "cell_type": "code",
   "execution_count": 159,
   "metadata": {},
   "outputs": [
    {
     "data": {
      "text/plain": [
       "'phB6HvQyOUEZmvgg9KzRmA'"
      ]
     },
     "execution_count": 159,
     "metadata": {},
     "output_type": "execute_result"
    }
   ],
   "source": [
    "# try a potentail OpenSearch query\n",
    "\n",
    "host = 'https://search-restaurants-zvk7jnqfg6krgykwbjskmtveiu.us-west-2.es.amazonaws.com'\n",
    "index = 'restaurants'\n",
    "url = str(host + '/' + index + '/' + '_search')\n",
    "headers = {'Content-Type': \"application/json\", 'Accept': \"application/json\"}\n",
    "data = {\n",
    "  \"size\": 20,\n",
    "  \"query\": {\n",
    "    \"bool\": { \"should\": [ \n",
    "       { \"match\": { \"area\": \"Bronx\" } }, \n",
    "       { \"match\": { \"cuisine\": \"Italian\" } } \n",
    "    ]}\n",
    "  }\n",
    "}\n",
    "\n",
    "# I hide master-user and user-password\n",
    "r = requests.get(url, json=data, headers=headers, auth = HTTPBasicAuth('master-user', 'master-user-password'))\n",
    "\n",
    "response_dict = json.loads(r.text)\n",
    "response_dict['hits']['hits'][0]['_source']['id']"
   ]
  }
 ],
 "metadata": {
  "kernelspec": {
   "display_name": "Python 3",
   "language": "python",
   "name": "python3"
  },
  "language_info": {
   "codemirror_mode": {
    "name": "ipython",
    "version": 3
   },
   "file_extension": ".py",
   "mimetype": "text/x-python",
   "name": "python",
   "nbconvert_exporter": "python",
   "pygments_lexer": "ipython3",
   "version": "3.7.4"
  }
 },
 "nbformat": 4,
 "nbformat_minor": 4
}
